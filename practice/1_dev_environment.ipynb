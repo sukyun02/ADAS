{
 "cells": [
  {
   "cell_type": "markdown",
   "id": "15997148",
   "metadata": {
    "vscode": {
     "languageId": "raw"
    }
   },
   "source": [
    "<!-- \n",
    " * @file        1_dev_environment.ipynb\n",
    " * @brief       This notebook sets up the development environment for ADAS SW practice.\n",
    " * \n",
    " * @authors     Jiwon Seok (pauljiwon96@gmail.com)\n",
    " *              Jaehwan Lee (idljh5529@gmail.com)        \n",
    " *\n",
    " * @date        2025-08-11 Released by AI Lab, Hanyang University\n",
    " * \n",
    "-->\n",
    "\n",
    "# 1강: 개발 환경 구축\n",
    "\n",
    "이 노트북에서는 다양한 ADAS Sofrware 관련 practice를 진행하기 위한 개발 환경을 구축하는 과정을 안내합니다. Visual Studio Code, Anaconda, Python 가상환경 설정 및 필수 라이브러리 설치 방법을 단계별로 설명합니다.\n"
   ]
  },
  {
   "cell_type": "markdown",
   "id": "6b367e05",
   "metadata": {
    "vscode": {
     "languageId": "raw"
    }
   },
   "source": [
    "## 1. Visual Studio Code 설치\n",
    "\n",
    "코딩을 위한 에디터로 Visual Studio Code(VS Code)를 사용합니다. 가볍고 강력하며 다양한 확장 프로그램을 지원하여 파이썬 개발에 매우 편리합니다.\n",
    "\n",
    "1. **[VS Code 공식 홈페이지](https://code.visualstudio.com/)**에 접속하여 자신의 운영체제에 맞는 설치 파일을 다운로드합니다.\n",
    "2. 설치 파일을 실행하여 지침에 따라 설치를 진행합니다. 설치 중 'Add to PATH' 또는 'Code로 열기' 옵션을 체크하면 더욱 편리하게 사용할 수 있습니다.\n",
    "\n",
    "<img src=\"../resources/ch1/vscode.png\" width=\"50%\">\n",
    "\n",
    "<그림 1: VS Code 다운로드 페이지>\n"
   ]
  },
  {
   "cell_type": "markdown",
   "id": "cb6f4462",
   "metadata": {
    "vscode": {
     "languageId": "raw"
    }
   },
   "source": [
    "## 2. VS Code 확장 프로그램 설치\n",
    "\n",
    "VS Code 설치 후, 파이썬 개발과 주피터 노트북 사용을 위해 다음 두 가지 핵심 확장 프로그램을 설치합니다.\n",
    "\n",
    "1. VS Code 왼쪽의 확장 프로그램 탭(Extensions, `Ctrl+Shift+X`)을 엽니다.\n",
    "2. 검색창에 `Python`을 검색하여 Microsoft에서 제공하는 공식 확장 프로그램을 설치합니다.\n",
    "3. 같은 방식으로 `Jupyter`를 검색하여 Microsoft에서 제공하는 Jupyter Notebook 지원 확장 프로그램을 설치합니다.\n",
    "\n",
    "<img src=\"../resources/ch1/vscode_python_extention.png\" width=\"50%\">\n",
    "\n",
    "<그림 2: VS Code에서 Python과 Jupyter 확장 프로그램 검색 및 설치 화면>\n"
   ]
  },
  {
   "cell_type": "markdown",
   "id": "8397f2d1",
   "metadata": {
    "vscode": {
     "languageId": "raw"
    }
   },
   "source": [
    "## 3. Anaconda 설치\n",
    "\n",
    "Anaconda는 데이터 과학 및 머신러닝을 위한 파이썬/R 배포판입니다. 다양한 라이브러리와 함께 `conda`라는 강력한 패키지 및 가상환경 관리자를 제공하여, 프로젝트별로 독립된 개발 환경을 쉽게 구축할 수 있도록 도와줍니다.\n",
    "\n",
    "1. **[Anaconda 공식 홈페이지](https://www.anaconda.com/products/distribution)**에 접속하여 최신 버전의 설치 파일을 다운로드합니다.\n",
    "2. 설치 파일을 실행하고 지침에 따라 설치를 진행합니다.\n",
    "\n",
    "\n",
    "**Linux/macOS의 경우 터미널에서 다음 명령어로 설치할 수 있습니다:**\n"
   ]
  },
  {
   "cell_type": "code",
   "execution_count": null,
   "id": "000a21b9",
   "metadata": {
    "vscode": {
     "languageId": "shellscript"
    }
   },
   "outputs": [],
   "source": [
    "\n",
    "chmod +x Anaconda3-2025.06-0-Linux-x86_64.sh\n",
    "./Anaconda3-2025.06-0-Linux-x86_64.sh"
   ]
  },
  {
   "cell_type": "markdown",
   "id": "5d40080f",
   "metadata": {},
   "source": [
    "\n",
    "<img src=\"../resources/ch1/anaconda_download.png\" width=\"50%\">\n",
    "\n",
    "<그림 3: Anaconda 다운로드>\n",
    "\n",
    "<img src=\"../resources/ch1/anaconda_install.png\" width=\"95%\">\n",
    "\n",
    "<그림 4: Anaconda 설치>\n",
    "\n"
   ]
  },
  {
   "cell_type": "markdown",
   "id": "1505f0cf",
   "metadata": {
    "vscode": {
     "languageId": "raw"
    }
   },
   "source": [
    "## 4. Conda 가상환경 생성 및 활성화\n",
    "\n",
    "프로젝트마다 다른 버전의 라이브러리가 필요한 경우가 많습니다. 가상환경은 프로젝트별로 파이썬 버전과 라이브러리를 격리하여 관리할 수 있게 해주는 필수적인 도구입니다.\n",
    "\n",
    "여기서는 `adas_practice`와 `open3d-env`라는 이름의 두 개의 환경을 구축할 것입니다. 이 때, `adas_practice`는 Python 3.11 버전의 가상환경으로, `open3d-env`는 Python 3.7 버전의 가상환경을 생성하겠습니다.\n",
    "\n",
    "터미널(Windows에서는 Anaconda Prompt 또는 PowerShell, macOS/Linux에서는 Terminal)을 열고 다음 명령어를 실행합니다.\n"
   ]
  },
  {
   "cell_type": "code",
   "execution_count": null,
   "id": "e144488f",
   "metadata": {
    "vscode": {
     "languageId": "shellscript"
    }
   },
   "outputs": [],
   "source": [
    "# 'adas_practice'라는 이름의 가상환경을 생성하고, python 버전을 3.11로 지정합니다.\n",
    "conda create -n adas_practice python=3.11 -y\n",
    "\n",
    "# 'open3d-env'라는 이름의 가상환경을 생성하고, python 버전을 3.7로 지정합니다.\n",
    "conda create -n open3d-env python=3.7 -y"
   ]
  },
  {
   "cell_type": "markdown",
   "id": "c9e2976c",
   "metadata": {
    "vscode": {
     "languageId": "raw"
    }
   },
   "source": [
    "가상환경 생성이 완료되면, 다음 명령어로 활성화합니다.\n"
   ]
  },
  {
   "cell_type": "code",
   "execution_count": null,
   "id": "a0764dc7",
   "metadata": {
    "vscode": {
     "languageId": "shellscript"
    }
   },
   "outputs": [],
   "source": [
    "# 'adas_practice' 가상환경 활성화\n",
    "conda activate adas_practice\n",
    "\n",
    "# 'open3d-env' 가상환경 활성화\n",
    "conda activate open3d-env"
   ]
  },
  {
   "cell_type": "markdown",
   "id": "d62a5e9b",
   "metadata": {
    "vscode": {
     "languageId": "raw"
    }
   },
   "source": [
    "명령어 프롬프트 앞에 `(open3d-env)`와 같이 가상환경 이름이 표시되면 성공적으로 활성화된 것입니다."
   ]
  },
  {
   "cell_type": "markdown",
   "id": "017655b1",
   "metadata": {
    "vscode": {
     "languageId": "raw"
    }
   },
   "source": [
    "## 5. 필수 라이브러리 설치\n",
    "\n",
    "가상환경이 활성화된 상태에서 실습에 필요한 라이브러리들을 설치합니다. `pip`을 사용하여 설치하겠습니다.\n"
   ]
  },
  {
   "cell_type": "markdown",
   "id": "2e7d3a70",
   "metadata": {},
   "source": [
    "### 5-1. adas_practice"
   ]
  },
  {
   "cell_type": "code",
   "execution_count": null,
   "id": "d1d89d05",
   "metadata": {
    "vscode": {
     "languageId": "shellscript"
    }
   },
   "outputs": [],
   "source": [
    "# 'adas_practice' 가상환경 활성화\n",
    "conda activate adas_practice\n",
    "\n",
    "# pip을 최신 버전으로 업그레이드합니다.\n",
    "# Upgrade pip to the latest version.\n",
    "pip install --upgrade pip\n",
    "\n",
    "# 필수 라이브러리를 설치합니다.\n",
    "# NumPy (수치 계산 라이브러리)\n",
    "# Matplotlib (그래프 그리기 라이브러리)\n",
    "# rospkg (ROS 패키지 관리 라이브러리)\n",
    "# rosbag (ROS 데이터 저장 라이브러리)\n",
    "# pycryptodomex (암호화 라이브러리)\n",
    "# gnupg (GPG 라이브러리)\n",
    "# pandas (데이터 분석 라이브러리)\n",
    "# folium (지도 시각화 라이브러리)\n",
    "# opencv-python (영상 처리 라이브러리)\n",
    "# scipy (과학 계산 라이브러리)\n",
    "pip install ipykernel\n",
    "pip install numpy matplotlib\n",
    "pip install rospkg rosbag\n",
    "# 윈도우의 경우, 아래 명령어를 실행하세요.\n",
    "# pip install rosbags\n",
    "pip install pycryptodomex\n",
    "pip install gnupg\n",
    "pip install pandas\n",
    "pip install folium\n",
    "pip install opencv-python\n",
    "pip install scipy"
   ]
  },
  {
   "cell_type": "markdown",
   "id": "7d55d1dd",
   "metadata": {},
   "source": [
    "### 5-2. open3d-env"
   ]
  },
  {
   "cell_type": "code",
   "execution_count": null,
   "id": "c2db59ca",
   "metadata": {
    "vscode": {
     "languageId": "shellscript"
    }
   },
   "outputs": [],
   "source": [
    "# 'open3d-env' 가상환경 활성화\n",
    "conda activate open3d-env\n",
    "\n",
    "# pip을 최신 버전으로 업그레이드합니다.\n",
    "# Upgrade pip to the latest version.\n",
    "pip install --upgrade pip\n",
    "\n",
    "# 필수 라이브러리를 설치합니다.\n",
    "# Install essential libraries.\n",
    "# Open3D (Python 3.7과 호환되는 0.17.0 버전을 명시적으로 설치)\n",
    "# Open3D (Explicitly install version 0.17.0 compatible with Python 3.7)\n",
    "# NumPy (수치 계산 라이브러리)\n",
    "# NumPy (Numerical computing library)\n",
    "# Jupyter (이 노트북을 실행하기 위한 라이브러리)\n",
    "# Jupyter (Library to run this notebook)\n",
    "pip install ipykernel\n",
    "pip install open3d==0.17.0\n",
    "pip install numpy\n",
    "pip install plyfile\n",
    "pip install jupyter\n",
    "pip install ffmpeg\n",
    "pip install graphviz\n",
    "pip install matplotlib\n",
    "# 추가로 설치\n",
    "pip install pandas"
   ]
  },
  {
   "cell_type": "markdown",
   "id": "540cb086",
   "metadata": {
    "vscode": {
     "languageId": "raw"
    }
   },
   "source": [
    "## 6. Jupyter Notebook에서 가상환경 커널 연결\n",
    "\n",
    "이제 VS Code에서 우리가 만든 `open3d-env` 가상환경을 Jupyter Notebook의 커널로 사용하도록 설정해야 합니다.\n",
    "\n",
    "1. VS Code에서 이 `.ipynb` 파일을 엽니다.\n",
    "2. 우측 상단의 '커널 선택(Select Kernel)' 버튼을 클릭합니다.\n",
    "3. 'Python Environments'를 선택하면 사용 가능한 파이썬 인터프리터 목록이 나타납니다.\n",
    "4. 목록에서 `'open3d-env': conda` 라고 표시된 환경을 선택합니다.\n",
    "\n",
    "\n",
    "\n",
    "이제 모든 설정이 완료되었습니다. 아래 코드 셀을 실행하여 Open3D가 성공적으로 설치되었는지 확인해봅시다.\n"
   ]
  },
  {
   "cell_type": "code",
   "execution_count": null,
   "id": "12fe05a3",
   "metadata": {},
   "outputs": [],
   "source": [
    "import open3d as o3d\n",
    "\n",
    "# Check the version of Open3D\n",
    "print(f\"Open3D 버전: {o3d.__version__}\")\n"
   ]
  },
  {
   "cell_type": "markdown",
   "id": "6c907af4",
   "metadata": {
    "vscode": {
     "languageId": "raw"
    }
   },
   "source": [
    "## 요약\n",
    "\n",
    "이번 강의에서는 다음과 같은 내용을 다루었습니다.\n",
    "\n",
    "- VS Code 및 필수 확장 프로그램 설치\n",
    "- Anaconda 설치\n",
    "- `conda`를 이용한 Python 3.7 가상환경 생성\n",
    "- `pip`을 이용한 Open3D, NumPy 등 라이브러리 설치\n",
    "- VS Code Jupyter Notebook에서 가상환경 커널 연결\n",
    "\n",
    "이제 Point Cloud 데이터를 다루기 위한 모든 준비가 끝났습니다. 다음 강의부터 본격적으로 Open3D의 기능을 알아보겠습니다.\n"
   ]
  }
 ],
 "metadata": {
  "kernelspec": {
   "display_name": "pcp_37",
   "language": "python",
   "name": "python3"
  },
  "language_info": {
   "codemirror_mode": {
    "name": "ipython",
    "version": 3
   },
   "file_extension": ".py",
   "mimetype": "text/x-python",
   "name": "python",
   "nbconvert_exporter": "python",
   "pygments_lexer": "ipython3",
   "version": "3.7.12"
  }
 },
 "nbformat": 4,
 "nbformat_minor": 5
}
